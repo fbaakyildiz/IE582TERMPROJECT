{
  "cells": [
    {
      "cell_type": "markdown",
      "id": "e5530b24-9f26-4623-8d53-4391cea8f9f4",
      "metadata": {},
      "source": [
        "# IE582 FALL24 PROJECT BOGAZICI UNIVERSITY FALL 2024\n"
      ]
    },
    {
      "cell_type": "markdown",
      "id": "dd9fad07-074e-4db1-82f0-4b4eea519339",
      "metadata": {},
      "source": [
        "##### Lea Michels 2024690336\n",
        "##### Hannes Knieke 2024690333\n",
        "##### Fatih Akyıldız 2019402162\n",
        "\n",
        "\n"
      ]
    },
    {
      "cell_type": "markdown",
      "id": "0fab89a6-f688-43ad-87bd-8358e09f38ff",
      "metadata": {},
      "source": [
        "# 1. INTRODUCTION"
      ]
    },
    {
      "cell_type": "markdown",
      "id": "29bea9a5-7e76-4806-9cf7-96b50a7fedbe",
      "metadata": {},
      "source": [
        "### Problem Description:\n",
        "\n",
        "The objective of this project is to develop a live betting strategy for soccer matches using provided match data, including in-game statistics and odds. The task requires identifying a single optimal time instant during a game to make a prediction about the match outcome—home win, draw, or away win—and decide whether to bet or take no action. Once a decision is made, no further revisions or additional predictions can be made for that match. This mimics real-world betting conditions where future data is inaccessible at the time of decision-making.\n",
        "\n",
        "Key constraints and goals:\n",
        "\n",
        "-Single decision per match at a specific time instant.\n",
        "\n",
        "-Decisions must be based solely on data available up to that time point.\n",
        "\n",
        "-Avoid forward-seeing by not using future information.\n",
        "\n",
        "-Performance measures include accuracy (proportion of correct predictions) and return (cumulative profit/loss based on betting odds)"
      ]
    },
    {
      "cell_type": "markdown",
      "id": "c2fc6a3e-3d15-44ef-b48e-5a8891a88a72",
      "metadata": {},
      "source": [
        "### Summary of Proposed Approach:\n",
        "\n",
        "Data Preprocessing:\n",
        "\n",
        "Adjusted minute values by adding 45 minutes for second-half events to align with full match time and it is hard for models to capture halftime feature with 1st-half and 2nd-half values.\n",
        "\n",
        "Filled missing values using forward-fill for columns representing cumulative match stats and zeros where applicable.\n",
        "\n",
        "Feature Manipulation:\n",
        "\n",
        "- We normalized the percantage columns and bookmakers odds(previously done in hw2) \n",
        "\n",
        "- Also identified the cumulative yet continous features and normalize it also to get it learnt better by models we used.\n",
        "\n",
        "- finally created a dataFrame with only relecant columns that we will use for prediction purposes.\n",
        "\n",
        "\n",
        "\n",
        "Model Training:\n",
        "\n",
        "-Three models were used: XGBoost, GLM (L1-regularized), and Random Forest.\n",
        "\n",
        "-Hyperparameter tuning was performed using GridSearchCV to optimize accuracy and find optimal parameters for each model as we discussed in lectures.\n",
        "\n",
        "-After training models with parameters tuned and cross-validated. We proceed to brainstorm on how to construct a algorithm.\n",
        "\n",
        "Live Betting Strategy:\n",
        "\n",
        "-For each match, iterated over available minutes (using the available minute up to that minute) and made a prediction when confidence exceeded a threshold.\n",
        "\n",
        "-If no confident prediction was made during the match, the decision was “no action”.\n",
        "\n",
        "-Odds from the original data were used to compute cumulative returns for bets placed.\n",
        "\n",
        "-Introduced a cutoff minute (e.g., 90th minute) to experiment how constraining last-minute decisions affect our strategy.\n",
        "\n",
        "-Incremented confidence threshold slightly as time progressed to favor early predictions where odds are relatively more profitable."
      ]
    },
    {
      "cell_type": "markdown",
      "id": "9a0ced3d-e16f-4e1d-83e1-268c1b5030f7",
      "metadata": {},
      "source": [
        "### Descriptive Analysis of the Match Data\n",
        "\n",
        "Match events:\n",
        "goals, corners, and successful passes..... for both home and away teams.\n",
        "Metrics are cumulative.\n",
        "\n",
        "Team Performance stats:\n",
        "ball possession %, accurate crosses, shots on target, etc., indicate the performance of each team during the match.\n",
        "\n",
        "Betting Odds:\n",
        "The dataset includes live odds for three outcomes:\n",
        "1 (Home Win)\n",
        "2 (Away Win)\n",
        "X (Draw)\n",
        "\n",
        "we observed until a event occur or any team performance stat initialize values of stats come up to be missing making it suitable for forward filling.\n",
        "\n",
        "\n",
        "\n"
      ]
    },
    {
      "cell_type": "markdown",
      "id": "49af753a-e225-4810-87da-07f27c787add",
      "metadata": {},
      "source": [
        "# 2. Related Literature"
      ]
    },
    {
      "cell_type": "markdown",
      "id": "84ba4b37-334b-4eaf-b053-d140dd5aaa6c",
      "metadata": {},
      "source": [
        "Our main workflow was built regarding to material we covered in lectures. We tried to imply techniques delivered in class material. Besides that we also search relevant studies to finalize our decision and workflow.\n",
        "\n",
        "- \"Improving Sports Outcome Prediction Process Using Integrating Adaptive Weighted Features and Machine Learning Techniques\" by Chi-Jie Lu, Tian-Shyug Lee, Chien-Chih Wang, Wei-Jen Chen[1] proposed Random Forests and XGBoost are ensemble learning methods that have been effectively applied in sports outcome predictions. For instance, a study on NBA game outcome prediction integrated data mining techniques, including XGBoost, to forecast game scores, demonstrating the model's efficacy in handling complex, high-dimensional data. Also we saw tgat penalized regression models, such as Lasso (L1 regularization), are employed to manage multicollinearity and enhance predictive accuracy by imposing penalties on the size of coefficients. This technique is particularly useful in sports betting models where numerous correlated predictors are present it says.\n",
        "\n",
        "- \"A Systematic Review of Machine Learning in Sports Betting: Techniques, Challenges, and Future Directions\" by René Manassé Galekwa, Jean Marie Tshimula, Etienne Gael Tajeuna, Kyamakya Kyandoghere[2] showed us feature normalization is a critical preprocessing step in machine learning models to ensure that each feature contributes equally to the model's performance. In sports betting, where data can vary widely in scale, normalization facilitates the convergence of algorithms and improves predictive accuracy. It highlights the importance of data preprocessing, including normalization, in developing effective predictive models. "
      ]
    },
    {
      "cell_type": "markdown",
      "id": "ceeeca6a-cd05-4b83-b71b-f2ec8754dc85",
      "metadata": {},
      "source": [
        "# 3. APPROACH"
      ]
    },
    {
      "cell_type": "markdown",
      "id": "fc659f80-6f1a-4219-b592-1c834d18a3c2",
      "metadata": {},
      "source": [
        "Our initial priority was to create a roadmap. After reviewing the topics covered in lectures and relevant research papers, we outlined the following roadmap for our approach:\n",
        "\n",
        "- Review the data\n",
        "- Manipulate the data\n",
        "- Decide on features useful for prediction\n",
        "- Extract features\n",
        "- Propose a model and perform hyperparameter tuning with cross-validation for training and tuning purposes\n",
        "- Propose a live betting algorithm to decide whether to place a bet or not\n",
        "- Evaluate our betting strategy within the scope of the three proposed models"
      ]
    },
    {
      "cell_type": "markdown",
      "id": "57f07217-5e61-4532-90d4-30e3deb6d201",
      "metadata": {},
      "source": [
        "#### Preprocessing and Feature Manipulation\n",
        "\n",
        "We began manipulating the data by sorting it based on fixture_id, halftime, minute, and second values. Upon further examination, we observed that the features were cumulative and that some features had missing values until the first occurrence of an event was recorded. To address this, we first filled missing values using forward fill, and the remaining missing values were filled with 0.\n",
        "\n",
        "Next, using the halftime column, we made the minute column continuous across each match to enhance the models' learning process. As we did in HW2, we normalized the odds and also normalized the following percentage-based columns:\n",
        "\n",
        "- 'Ball Possession % - away'\n",
        "- 'Ball Possession % - home'\n",
        "- 'Successful Passes Percentage - away'\n",
        "- 'Successful Passes Percentage - home'\n",
        "\n",
        "Subsequently, we printed the continuous features representing game statistics and normalized them. The dataset was then split into training and test sets as specified in the project description. We encoded the result column and separated the data into X_train, Y_train, X_test, and Y_test for model training and evaluation."
      ]
    },
    {
      "cell_type": "markdown",
      "id": "b93add8c-546f-419c-b1aa-9c7de8a2de0b",
      "metadata": {},
      "source": [
        "#### model selection & parameter tuning \n",
        "\n",
        "1. We selected three distinct types of models to capture different aspects of the data:\n",
        "\n",
        "XGBoost:\n",
        "Chosen for its ability to model complex feature interactions and handle non-linear relationships effectively.\n",
        "\n",
        "GLM with L1 Regularization:\n",
        "Selected for its simplicity, interpretability, and feature selection capabilities through L1 penalties.\n",
        "\n",
        "Random Forest:\n",
        "A robust ensemble method known for reducing overfitting by averaging multiple decision trees.\n",
        "\n",
        "2. To achieve optimal model performance, we performed hyperparameter tuning using GridSearchCV with cross-validation. Here’s how we applied this process:\n",
        "\n",
        "XGBoost:\n",
        "We explored parameters such as the number of estimators, learning rate, max depth of trees, and regularization terms.\n",
        "Grid search was performed with 128 parameter combinations across 3-fold cross-validation (384 total fits).\n",
        "\n",
        "GLM with L1 Regularization:\n",
        "We tuned the regularization strength (C) and penalty type (l1 or l2).\n",
        "The parameter search space was kept compact with 10 combinations to avoid excessive runtime while still covering key options.\n",
        "This model underwent 3-fold cross-validation with 30 total fits.\n",
        "\n",
        "Random Forest:\n",
        "We tuned parameters such as the number of estimators, max tree depth, and minimum number of samples for splits and leaf nodes.\n",
        "The grid search for Random Forest included 24 combinations with 72 total fits.\n",
        "\n",
        "3. Cross-Validation Process:\n",
        "\n",
        "For each model, we performed 3-fold cross-validation to:\n",
        "\n",
        "Ensure robust evaluation by splitting the training set into different folds.\n",
        "Train the model on two folds and validate it on the third.\n",
        "Calculate the mean cross-validation score to assess model performance across different subsets of data.\n",
        "\n",
        "The best parameters for each model were selected based on the highest cross-validation score:\n",
        "\n",
        "XGBoost: Parameters such as learning_rate, max_depth, and subsample were tuned to balance between underfitting and overfitting.\n",
        "\n",
        "GLM: The C parameter determined the strength of regularization to prevent the model from overfitting.\n",
        "\n",
        "Random Forest: Parameters such as max_depth, min_samples_split, and n_estimators helped control model complexity and improve generalization.\n",
        "\n",
        "\n",
        "\n"
      ]
    },
    {
      "cell_type": "code",
      "execution_count": null,
      "id": "585c2aab-48e7-4e61-9ac9-9311be009dd0",
      "metadata": {
        "trusted": true
      },
      "outputs": [],
      "source": [
        "model = XGBClassifier(use_label_encoder=False, eval_metric='mlogloss')  \n",
        "\n",
        "# Updated parameter grid for XGBoost\n",
        "param_grid_xgb = {\n",
        "    'n_estimators': [100, 150],  # Number of trees\n",
        "    'learning_rate': [0.05, 0.1],  # Shrinkage step size\n",
        "    'max_depth': [3, 5],  # Tree depth to control overfitting\n",
        "    'min_child_weight': [1, 5],  # Minimum sum of instance weights for a child node\n",
        "    'gamma': [0, 0.1],  # Minimum loss reduction required to make a further split\n",
        "    'subsample': [0.8, 1.0],  # Fraction of samples used for training each tree\n",
        "    'colsample_bytree': [0.8, 1.0],  # Fraction of features used for each tree\n",
        "}\n",
        "\n",
        "# GridSearchCV with XGBoost\n",
        "grid_search_xgb = GridSearchCV(\n",
        "    estimator=model,\n",
        "    param_grid=param_grid_xgb,\n",
        "    cv=3,  # 3-fold cross-validation\n",
        "    n_jobs=-1,  # Use all CPU cores\n",
        "    verbose=1\n",
        ")\n",
        "\n",
        "# Check if the sample size doesn't exceed available data\n",
        "sample_size = min(20000, len(X_train))\n",
        "X_train_sampled = X_train.sample(n=sample_size, random_state=42)\n",
        "y_train_sampled = y_train.loc[X_train_sampled.index]\n",
        "\n",
        "# Perform the Grid Search\n",
        "grid_search_xgb.fit(X_train_sampled, y_train_sampled)\n",
        "\n",
        "# Get the best model, parameters, and score\n",
        "best_model_xgb = grid_search_xgb.best_estimator_\n",
        "best_params_xgb = grid_search_xgb.best_params_\n",
        "best_score_xgb = grid_search_xgb.best_score_"
      ]
    },
    {
      "cell_type": "code",
      "execution_count": null,
      "id": "acd0b8c6-e745-4e5a-b853-08be6e660665",
      "metadata": {
        "trusted": true
      },
      "outputs": [],
      "source": [
        "#  Logistic Regression (GLM) model with regularization\n",
        "model_glm = LogisticRegression(multi_class='multinomial', solver='saga', max_iter=1000)\n",
        "\n",
        "# Hyperparameter grid for regularization strength\n",
        "param_grid_glm = {\n",
        "    'C': [0.01, 0.1, 1, 10, 100],  # Regularization strength (inverse of lambda)\n",
        "    'penalty': ['l1', 'l2'],  # L1 for Lasso, L2 for Ridge regularization\n",
        "}\n",
        "\n",
        "# Grid search for GLM\n",
        "grid_search_glm = GridSearchCV(estimator=model_glm, param_grid=param_grid_glm, cv=3, n_jobs=-1, verbose=1)\n",
        "grid_search_glm.fit(X_train, y_train)\n",
        "\n",
        "# Get best model, parameters, and score\n",
        "best_model_glm = grid_search_glm.best_estimator_\n",
        "best_params_glm = grid_search_glm.best_params_\n",
        "best_score_glm = grid_search_glm.best_score_\n"
      ]
    },
    {
      "cell_type": "code",
      "execution_count": null,
      "id": "d9bbeedb-099a-40db-abc1-84ccbba3f115",
      "metadata": {
        "trusted": true
      },
      "outputs": [],
      "source": [
        "\n",
        "# Random Forest Classifier\n",
        "model_rf = RandomForestClassifier(random_state=42)\n",
        "\n",
        "# Updated hyperparameter grid\n",
        "param_grid_rf = {\n",
        "    'n_estimators': [100, 150],  # Number of trees\n",
        "    'max_depth': [10, 15, 20],  # Focus on key depths\n",
        "    'min_samples_split': [2, 5],  # Minimum samples required for split\n",
        "    'min_samples_leaf': [1, 2],  # Minimum samples per leaf\n",
        "    'bootstrap': [True]  # Only test bootstrap=True to reduce combinations\n",
        "}\n",
        "\n",
        "# GridSearchCV for Random Forest\n",
        "grid_search_rf = GridSearchCV(\n",
        "    estimator=model_rf,\n",
        "    param_grid=param_grid_rf,\n",
        "    cv=3,  # 3-fold cross-validation\n",
        "    n_jobs=4,  # Use 4 cores to balance load\n",
        "    verbose=1\n",
        ")\n",
        "\n",
        "# Fit with reduced grid\n",
        "grid_search_rf.fit(X_train, y_train)\n",
        "\n"
      ]
    },
    {
      "cell_type": "markdown",
      "id": "b0f2187d-a384-41bd-bc5a-362a684dd78b",
      "metadata": {},
      "source": [
        "### Algorithm for deciding single optimal time point for betting decision\n",
        "\n",
        "1. Iterative Decision Process:\n",
        "For each match, we iterated through the available data at each minute, simulating the flow of a live soccer match. At each time point, the models were asked to make a prediction based on the features up to that minute.\n",
        "2. Confidence Threshold for Decision-Making:\n",
        "A decision to place a bet was made only when the predicted class probability exceeded a predefined confidence threshold (e.g., 0.7). This ensured that bets were placed only when the model was confident enough about its prediction.\n",
        "As the minute passes, the confidence threshold is adjusted by a coefficient proportional to time,\n",
        "gradually increasing the threshold, discouraging bets in late-game moments unless the confidence is very high.\n",
        "3. Cutoff Time:\n",
        "A cutoff minute (e.g., 90th minute) ensures that no decisions are made after a specific point, preventing last-minute reactive bets.\n",
        "4. “No Action” Decision:\n",
        "If no confident prediction is made before the cutoff, the strategy outputs “no action” for that match."
      ]
    },
    {
      "cell_type": "code",
      "execution_count": null,
      "id": "f8c9908e-a6b9-484f-9654-933b7d3b9084",
      "metadata": {
        "trusted": true
      },
      "outputs": [],
      "source": [
        "def revised_betting_strategy(model, test_df, initial_confidence_threshold=0.7, cutoff_minute=90, confidence_step=0.01):\n",
        "    decisions = {}\n",
        "\n",
        "    for fixture_id in test_df['fixture_id'].unique():\n",
        "        # Filter data for the specific fixture and sort by time\n",
        "        fixture_data = test_df[test_df['fixture_id'] == fixture_id].sort_values(by='minute')\n",
        "        current_confidence_threshold = initial_confidence_threshold\n",
        "\n",
        "        for _, row in fixture_data.iterrows():\n",
        "            if row['minute'] > cutoff_minute:\n",
        "                break  # Do not bet after cutoff minute\n",
        "\n",
        "            # Extract features up to the current minute\n",
        "            X_single = row.drop(['result', 'fixture_id', 'encoded_result']).values.reshape(1, -1)\n",
        "            pred_proba = model.predict_proba(X_single)[0]  # Get probability predictions\n",
        "            pred_class = model.classes_[pred_proba.argmax()]  # Get predicted class (1, 2, or X)\n",
        "            max_proba = pred_proba.max()  # Maximum probability (confidence)\n",
        "\n",
        "            # Adjust confidence threshold slightly as the game progresses\n",
        "            current_confidence_threshold += confidence_step * (row['minute'] / 90)\n",
        "\n",
        "            # If confidence exceeds the adjusted threshold, make a prediction\n",
        "            if max_proba >= current_confidence_threshold:\n",
        "                decisions[fixture_id] = {\n",
        "                    'minute': row['minute'],\n",
        "                    'prediction': label_encoder.inverse_transform([pred_class])[0],\n",
        "                    'confidence': max_proba\n",
        "                }\n",
        "                break  # Stop after making the first confident decision\n",
        "\n",
        "        # If no confident prediction was made during the entire match\n",
        "        if fixture_id not in decisions:\n",
        "            decisions[fixture_id] = {\n",
        "                'minute': None,\n",
        "                'prediction': \"no action\",\n",
        "                'confidence': None\n",
        "            }\n",
        "\n",
        "    return pd.DataFrame.from_dict(decisions, orient='index')"
      ]
    },
    {
      "cell_type": "markdown",
      "id": "9dcad34d-38ff-4741-9d3c-4e0ff18e90dd",
      "metadata": {},
      "source": [
        "### Algorithm to evaulate performances \n",
        "\n",
        "1. Iterating Through Bets:\n",
        "For each match (fixture_id), the algorithm checks whether a model placed a bet and skips if the decision is “no action”.\n",
        "2. Outcome Comparison:\n",
        "The true result for the match (home win, away win, or draw) is compared to the model’s predicted result.\n",
        "If the prediction matches the actual outcome:\n",
        "The model gains units equal to the corresponding betting odds (betting 1 unit).\n",
        "If the prediction is incorrect:\n",
        "The model loses 1 unit.\n",
        "3. Odds Lookup:\n",
        "The betting odds at the exact minute when the bet was placed are fetched from the match_df.\n",
        "The odds for home win (1), away win (2), and draw (X) are retrieved and used for return calculations.\n",
        "4. Metrics Computed:\n",
        "Total Bets: Number of matches where the model placed a bet.\n",
        "Correct Bets: Number of bets where the predicted outcome was correct.\n",
        "Accuracy: Ratio of correct bets to total bets.\n",
        "Cumulative Return: Total units gained or lost based on the placed bets."
      ]
    },
    {
      "cell_type": "code",
      "execution_count": null,
      "id": "ea3d2494-aca7-410e-85ea-85c6764f33b2",
      "metadata": {
        "trusted": true
      },
      "outputs": [],
      "source": [
        "def evaluate_strategy_with_odds(decisions_df, true_results, match_df):\n",
        "    total_bets = 0\n",
        "    correct_bets = 0\n",
        "    cumulative_return = 0\n",
        "\n",
        "    for fixture_id, decision in decisions_df.iterrows():\n",
        "        prediction = decision['prediction']\n",
        "\n",
        "        # Skip if \"no action\"\n",
        "        if prediction == \"no action\":\n",
        "            continue\n",
        "\n",
        "        true_result = true_results.get(fixture_id)\n",
        "        \n",
        "        # Filter for the specific fixture and minute to get the odds\n",
        "        odds_row = match_df[\n",
        "            (match_df['fixture_id'] == fixture_id) & (match_df['minute'] == decision['minute'])\n",
        "        ].iloc[0]\n",
        "\n",
        "        # Get the appropriate odds based on the prediction\n",
        "        if prediction == \"1\":\n",
        "            odd = odds_row['1']  # Home win odds\n",
        "        elif prediction == \"2\":\n",
        "            odd = odds_row['2']  # Away win odds\n",
        "        else:\n",
        "            odd = odds_row['X']  # Draw odds\n",
        "\n",
        "        total_bets += 1\n",
        "\n",
        "        if prediction == true_result:\n",
        "            correct_bets += 1\n",
        "            cumulative_return += odd  # Gain units based on odds if correct\n",
        "        else:\n",
        "            cumulative_return -= 1  # Lose 1 unit if incorrect\n",
        "\n",
        "    accuracy = correct_bets / total_bets if total_bets > 0 else 0\n",
        "    return {\n",
        "        'Total Bets': total_bets,\n",
        "        'Correct Bets': correct_bets,\n",
        "        'Accuracy': accuracy,\n",
        "        'Cumulative Return': cumulative_return\n",
        "    }"
      ]
    },
    {
      "cell_type": "markdown",
      "id": "f320c316-e3a0-4c3e-b3e1-0387c1162445",
      "metadata": {},
      "source": [
        "# 4. RESULTS "
      ]
    },
    {
      "attachments": {
        "Screenshot 2025-01-13 at 19.28.16.png": {
          "image/png": "[encoded data removed]"
        }
      },
      "cell_type": "markdown",
      "id": "7d41914a-f88f-4698-a156-3e720039703d",
      "metadata": {},
      "source": [
        "![Screenshot 2025-01-10 at 19.28.16.png](<attachment:Screenshot 2025-01-13 at 19.28.16.png>)"
      ]
    },
    {
      "cell_type": "markdown",
      "id": "31aa377c-215a-4745-88dd-3aa0a1e8f486",
      "metadata": {},
      "source": [
        "1. XGBoost achieved the highest validation score (0.96) during training, indicating strong performance on the training folds. However, its test accuracy dropped significantly to 0.66, suggesting overfitting. This overfitting likely occurred due to the complexity of the model, as XGBoost is prone to capturing noise in the training data.\n",
        "In the betting strategy, XGBoost placed many bets (84) but had a relatively modest accuracy of 64%, resulting in inconsistent returns. Despite having the highest cumulative return among the models, this performance is unstable due to the large number of bets and the model's struggle with predicting draws (precision: 0.44).\n",
        "2. The GLM performed consistently between the validation (0.65) and test set (0.68), indicating good generalization. The regularization (L1) helped prevent overfitting by shrinking irrelevant feature coefficients.\n",
        "However, the GLM model struggled to identify draws (precision: 0.47), impacting its overall predictive capability. In the betting strategy, it placed fewer bets (55) but maintained higher accuracy (78%), showing that it was cautious and often correct in its predictions. Despite this, the returns were lower than XGBoost due to slightly fewer high-odds bets but profitability is better.\n",
        "3. Random Forest performed consistently between validation (0.64) and test set (0.68), showing stability and robustness. It placed the fewest bets (42) but had the highest betting accuracy (93%), indicating its ability to make highly confident, accurate predictions. The Random Forest’s ensemble approach reduced variance, avoiding large errors and overfitting, which contributed to its reletively strong performance in the live betting strategy with being the only profitable model."
      ]
    },
    {
      "cell_type": "markdown",
      "id": "e81d4719-3431-43b5-a670-160a5a322723",
      "metadata": {},
      "source": [
        "XGBoost performed the worst in this context due to overfitting and sensitivity to hyperparameters despite its high validation score (0.96). While XGBoost is highly effective at modeling complex non-linear relationships, its complexity can lead to memorizing training patterns rather than generalizing to unseen data—especially in dynamic, noisy datasets like live match statistics. The large number of estimators, deep trees, and aggressive learning rate contributed to overfitting, as evidenced by the significant drop in test accuracy (0.66) compared to the validation score. Additionally, XGBoost struggled with predicting the draw outcome (precision: 0.44), likely due to class imbalance in the data and the model's bias toward more frequent outcomes (home and away wins). Its large number of bets (84) also increased exposure to variance, amplifying the impact of incorrect predictions. In contrast, simpler models like GLM and Random Forest imposed better regularization and decision thresholds, leading to more consistent and profitable decisions."
      ]
    },
    {
      "cell_type": "markdown",
      "id": "d0e2779d-f527-4bfa-ae1c-66104ac839dc",
      "metadata": {},
      "source": [
        "# 5. CONCLUSIONS AND FUTURE WORK"
      ]
    },
    {
      "cell_type": "markdown",
      "id": "93e2fd96-f412-43eb-8c44-034941a14787",
      "metadata": {},
      "source": [
        "In this project, we developed and evaluated a live betting strategy using three machine learning models: XGBoost, GLM with L1 Regularization, and Random Forest. Our aim was to combine our knowledge gained in lectures with a real-life challange. Our approach included  data preprocessing, feature normalization, and hyperparameter tuning. We practiced implementing the ML approaches we learnt in lectures. We assesed how good we can perform and imply the approaches were taught during the semester and also observed our flaws during the model building processes. \n",
        "\n",
        "To further improve the performance of our live betting strategy, we propose several extensions in three key areas:\n",
        "training and testing the models, enhancing the dataset, and improving decision rules. These enhancements aim to make the models more efficient, precise, and capable of generalizing to unseen match scenarios and make profitable bettin decision."
      ]
    },
    {
      "cell_type": "markdown",
      "id": "6e0fb2b4-d463-4e7e-9ab8-2618fc558560",
      "metadata": {},
      "source": [
        "1. Imporvements on trainin and testing the models\n",
        " \n",
        "Efficient Hyperparameter Tuning:\n",
        "Replace traditional grid search with Bayesian Optimization or Random Search to reduce computation time by exploring the parameter space more effectively.\n",
        "\n",
        "Cross-Validation with Stratification:\n",
        "Perform stratified K-fold cross-validation to ensure that each fold contains a balanced distribution of match outcomes (home win, draw, away win), reducing the risk of training bias.\n",
        "\n",
        "Handling Class Imbalance:\n",
        "Implement class weights in the loss function or use resampling techniques (e.g., SMOTE) to balance the dataset and improve the model’s ability to predict rare events like draws.\n",
        "\n",
        "Alternative Models:\n",
        "Experiment with models like:\n",
        "CatBoost: Handles categorical variables efficiently and is robust to overfitting.\n",
        "Neural Networks (LSTM/GRU): Sequential models can capture time-series dependencies, making them ideal for live event-based data.\n",
        "Gradient Boosting with Early Stopping: Apply early stopping during training to prevent overfitting and identify the optimal number of boosting iterations."
      ]
    },
    {
      "cell_type": "markdown",
      "id": "8ac9b375-d9cb-4607-9d2e-2d6e6f9e511c",
      "metadata": {},
      "source": [
        "2. Enhancing the Dataset\n",
        "Expanding and refining the input data can significantly improve model performance by providing richer contextual information:\n",
        "\n",
        "Player-Level Metrics:\n",
        "Incorporate real-time player data such as:\n",
        "Player ratings, passing accuracy, shots on target, and defensive actions.\n",
        "Injury reports and substitution events to account for player impact on the game.\n",
        "Along with starting 11 data\n",
        "\n",
        "External Data Sources:\n",
        "Fetch additional data from open sports APIs (e.g., SofaScore or Opta) to enrich the dataset with live performance indicators and historical trends"
      ]
    },
    {
      "cell_type": "markdown",
      "id": "e596ed84-6db8-44ff-85b7-35d3055396ef",
      "metadata": {},
      "source": [
        "# 6. LINK TO OUR CODE\n",
        "\n",
        "[CODE](https://github.com/fbaakyildiz/IE582TERMPROJECT/blob/main/WORK.ipynb)"
      ]
    },
    {
      "cell_type": "markdown",
      "id": "17552ed8-c067-4927-849c-64d32c46ef4e",
      "metadata": {},
      "source": [
        "# 7. REFERENCES\n",
        "[1] Lu, C. J., Lee, T. S., Wang, C. C., & Chen, W. J. (2021). \"Improving sports outcome prediction process using integrating adaptive weighted features and machine learning techniques\". Entropy, 23(4), 477. [https://www.mdpi.com/1099-4300/23/4/477]\n",
        "\n",
        "[2] Galekwa, R. M., Tshimula, J. M., Tajeuna, E. G., & Kyandoghere, K. (2024). A systematic review of machine learning in sports betting: Techniques, challenges, and future directions. arXiv preprint. [https://arxiv.org/abs/2410.21484]\n",
        "\n"
      ]
    },
    {
      "cell_type": "code",
      "execution_count": null,
      "id": "70b1bb41-1145-4f3f-bba4-87b410462769",
      "metadata": {
        "trusted": true
      },
      "outputs": [],
      "source": []
    }
  ],
  "metadata": {
    "kernelspec": {
      "display_name": "base",
      "language": "python",
      "name": "python3"
    },
    "language_info": {
      "codemirror_mode": {
        "name": "python",
        "version": 3
      },
      "file_extension": ".py",
      "mimetype": "text/x-python",
      "name": "python",
      "nbconvert_exporter": "python",
      "pygments_lexer": "ipython3",
      "version": "3.9.7"
    }
  },
  "nbformat": 4,
  "nbformat_minor": 5
}
